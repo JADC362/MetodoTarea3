{
 "cells": [
  {
   "cell_type": "code",
   "execution_count": 2,
   "metadata": {},
   "outputs": [],
   "source": [
    "import numpy as np\n",
    "import matplotlib.pyplot as plt"
   ]
  },
  {
   "cell_type": "code",
   "execution_count": 76,
   "metadata": {},
   "outputs": [
    {
     "name": "stderr",
     "output_type": "stream",
     "text": [
      "/home/jadc/.local/lib/python3.5/site-packages/ipykernel_launcher.py:1: VisibleDeprecationWarning: Reading unicode strings without specifying the encoding argument is deprecated. Set the encoding, use None for the system default.\n",
      "  \"\"\"Entry point for launching an IPython kernel.\n"
     ]
    }
   ],
   "source": [
    "datos = np.genfromtxt(\"WDBC.dat\",None,delimiter=\"\\n\")\n",
    "\n",
    "#Creacion vector datos diagnosis\n",
    "vectorDiagnosis = np.zeros(len(datos))\n",
    "\n",
    "#Creacion vector datos pruebas\n",
    "matrizDatos = np.zeros([len(datos),30])\n",
    "for i in range(len(datos)):\n",
    "    datosFila = (datos[i].decode('UTF-8')).split(\",\")\n",
    "    \n",
    "    #Clasificacion datos diagnosis\n",
    "    if datosFila[1]=='M':\n",
    "        vectorDiagnosis[i]=1\n",
    "    elif datosFila[1]=='B':\n",
    "        vectorDiagnosis[i]=0\n",
    "    \n",
    "    #Clasificacion datos pruebas\n",
    "    for j in range(30):\n",
    "        matrizDatos[i][j]=(datosFila)[j+2]"
   ]
  },
  {
   "cell_type": "code",
   "execution_count": null,
   "metadata": {},
   "outputs": [],
   "source": []
  }
 ],
 "metadata": {
  "kernelspec": {
   "display_name": "Python 2",
   "language": "python",
   "name": "python2"
  },
  "language_info": {
   "codemirror_mode": {
    "name": "ipython",
    "version": 3
   },
   "file_extension": ".py",
   "mimetype": "text/x-python",
   "name": "python",
   "nbconvert_exporter": "python",
   "pygments_lexer": "ipython3",
   "version": "3.5.2"
  }
 },
 "nbformat": 4,
 "nbformat_minor": 2
}
